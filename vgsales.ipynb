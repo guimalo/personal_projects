{
 "cells": [
  {
   "cell_type": "markdown",
   "metadata": {},
   "source": [
    "# Why videogames?"
   ]
  },
  {
   "cell_type": "markdown",
   "metadata": {},
   "source": [
    "The gaming industry is bigger than the movie and music industries combined. That sentence should already grasp the attention of most people and show why videogames are of interest for business. That being said, videogames are also a passion of mine and I thought that this combination of factors meant that doing my first data analysis project about the gaming industry was a good starting point.\n",
    "\n",
    "The dataset used in this project was obtained from Kaggle and can be accessed through https://www.kaggle.com/gregorut/videogamesales ."
   ]
  },
  {
   "cell_type": "markdown",
   "metadata": {},
   "source": [
    "# Importing Data"
   ]
  },
  {
   "cell_type": "code",
   "execution_count": 12,
   "metadata": {},
   "outputs": [],
   "source": [
    "\n",
    "import pandas as pd\n",
    "import numpy as np\n",
    "\n",
    "\n",
    "import matplotlib.pyplot as plt\n",
    "%matplotlib inline\n",
    "\n",
    "import seaborn as sns\n",
    "sns.set_style('whitegrid')\n",
    "\n",
    "#Plotly Libraries\n",
    "import plotly.express as px\n",
    "import plotly.graph_objects as go\n",
    "import plotly.figure_factory as ff\n",
    "from plotly.colors import n_colors\n",
    "from plotly.subplots import make_subplots\n",
    "from plotly.offline import init_notebook_mode, iplot\n",
    "from plotly import tools\n",
    "from IPython.display import display, HTML"
   ]
  },
  {
   "cell_type": "code",
   "execution_count": 13,
   "metadata": {},
   "outputs": [
    {
     "data": {
      "text/html": [
       "<div>\n",
       "<style scoped>\n",
       "    .dataframe tbody tr th:only-of-type {\n",
       "        vertical-align: middle;\n",
       "    }\n",
       "\n",
       "    .dataframe tbody tr th {\n",
       "        vertical-align: top;\n",
       "    }\n",
       "\n",
       "    .dataframe thead th {\n",
       "        text-align: right;\n",
       "    }\n",
       "</style>\n",
       "<table border=\"1\" class=\"dataframe\">\n",
       "  <thead>\n",
       "    <tr style=\"text-align: right;\">\n",
       "      <th></th>\n",
       "      <th>Rank</th>\n",
       "      <th>Name</th>\n",
       "      <th>Platform</th>\n",
       "      <th>Year</th>\n",
       "      <th>Genre</th>\n",
       "      <th>Publisher</th>\n",
       "      <th>NA_Sales</th>\n",
       "      <th>EU_Sales</th>\n",
       "      <th>JP_Sales</th>\n",
       "      <th>Other_Sales</th>\n",
       "      <th>Global_Sales</th>\n",
       "    </tr>\n",
       "  </thead>\n",
       "  <tbody>\n",
       "    <tr>\n",
       "      <th>0</th>\n",
       "      <td>1</td>\n",
       "      <td>Wii Sports</td>\n",
       "      <td>Wii</td>\n",
       "      <td>2006.0</td>\n",
       "      <td>Sports</td>\n",
       "      <td>Nintendo</td>\n",
       "      <td>41.49</td>\n",
       "      <td>29.02</td>\n",
       "      <td>3.77</td>\n",
       "      <td>8.46</td>\n",
       "      <td>82.74</td>\n",
       "    </tr>\n",
       "    <tr>\n",
       "      <th>1</th>\n",
       "      <td>2</td>\n",
       "      <td>Super Mario Bros.</td>\n",
       "      <td>NES</td>\n",
       "      <td>1985.0</td>\n",
       "      <td>Platform</td>\n",
       "      <td>Nintendo</td>\n",
       "      <td>29.08</td>\n",
       "      <td>3.58</td>\n",
       "      <td>6.81</td>\n",
       "      <td>0.77</td>\n",
       "      <td>40.24</td>\n",
       "    </tr>\n",
       "    <tr>\n",
       "      <th>2</th>\n",
       "      <td>3</td>\n",
       "      <td>Mario Kart Wii</td>\n",
       "      <td>Wii</td>\n",
       "      <td>2008.0</td>\n",
       "      <td>Racing</td>\n",
       "      <td>Nintendo</td>\n",
       "      <td>15.85</td>\n",
       "      <td>12.88</td>\n",
       "      <td>3.79</td>\n",
       "      <td>3.31</td>\n",
       "      <td>35.82</td>\n",
       "    </tr>\n",
       "    <tr>\n",
       "      <th>3</th>\n",
       "      <td>4</td>\n",
       "      <td>Wii Sports Resort</td>\n",
       "      <td>Wii</td>\n",
       "      <td>2009.0</td>\n",
       "      <td>Sports</td>\n",
       "      <td>Nintendo</td>\n",
       "      <td>15.75</td>\n",
       "      <td>11.01</td>\n",
       "      <td>3.28</td>\n",
       "      <td>2.96</td>\n",
       "      <td>33.00</td>\n",
       "    </tr>\n",
       "    <tr>\n",
       "      <th>4</th>\n",
       "      <td>5</td>\n",
       "      <td>Pokemon Red/Pokemon Blue</td>\n",
       "      <td>GB</td>\n",
       "      <td>1996.0</td>\n",
       "      <td>Role-Playing</td>\n",
       "      <td>Nintendo</td>\n",
       "      <td>11.27</td>\n",
       "      <td>8.89</td>\n",
       "      <td>10.22</td>\n",
       "      <td>1.00</td>\n",
       "      <td>31.37</td>\n",
       "    </tr>\n",
       "  </tbody>\n",
       "</table>\n",
       "</div>"
      ],
      "text/plain": [
       "   Rank                      Name Platform    Year         Genre Publisher  \\\n",
       "0     1                Wii Sports      Wii  2006.0        Sports  Nintendo   \n",
       "1     2         Super Mario Bros.      NES  1985.0      Platform  Nintendo   \n",
       "2     3            Mario Kart Wii      Wii  2008.0        Racing  Nintendo   \n",
       "3     4         Wii Sports Resort      Wii  2009.0        Sports  Nintendo   \n",
       "4     5  Pokemon Red/Pokemon Blue       GB  1996.0  Role-Playing  Nintendo   \n",
       "\n",
       "   NA_Sales  EU_Sales  JP_Sales  Other_Sales  Global_Sales  \n",
       "0     41.49     29.02      3.77         8.46         82.74  \n",
       "1     29.08      3.58      6.81         0.77         40.24  \n",
       "2     15.85     12.88      3.79         3.31         35.82  \n",
       "3     15.75     11.01      3.28         2.96         33.00  \n",
       "4     11.27      8.89     10.22         1.00         31.37  "
      ]
     },
     "execution_count": 13,
     "metadata": {},
     "output_type": "execute_result"
    }
   ],
   "source": [
    "vgdata = pd.read_csv('vgsales.csv')\n",
    "vgdata.head()"
   ]
  },
  {
   "cell_type": "code",
   "execution_count": 14,
   "metadata": {},
   "outputs": [
    {
     "name": "stdout",
     "output_type": "stream",
     "text": [
      "<class 'pandas.core.frame.DataFrame'>\n",
      "RangeIndex: 16598 entries, 0 to 16597\n",
      "Data columns (total 11 columns):\n",
      " #   Column        Non-Null Count  Dtype  \n",
      "---  ------        --------------  -----  \n",
      " 0   Rank          16598 non-null  int64  \n",
      " 1   Name          16598 non-null  object \n",
      " 2   Platform      16598 non-null  object \n",
      " 3   Year          16327 non-null  float64\n",
      " 4   Genre         16598 non-null  object \n",
      " 5   Publisher     16540 non-null  object \n",
      " 6   NA_Sales      16598 non-null  float64\n",
      " 7   EU_Sales      16598 non-null  float64\n",
      " 8   JP_Sales      16598 non-null  float64\n",
      " 9   Other_Sales   16598 non-null  float64\n",
      " 10  Global_Sales  16598 non-null  float64\n",
      "dtypes: float64(6), int64(1), object(4)\n",
      "memory usage: 1.4+ MB\n"
     ]
    }
   ],
   "source": [
    "vgdata.info()"
   ]
  },
  {
   "cell_type": "markdown",
   "metadata": {},
   "source": [
    "# Data Description"
   ]
  },
  {
   "cell_type": "markdown",
   "metadata": {},
   "source": [
    "This dataset contains a list of videogames that sold more than 100,000 copies and is it's columns include\n",
    "\n",
    "* **Rank** - Ranking of overall sales, integer\n",
    "* **Name** - The game's name, object\n",
    "* **Platform** - The platform which it was released for (i.e. Wii, PS4, etc), objetct\n",
    "* **Year** - Year of game's release, float\n",
    "* **Genre** - The game's genre, object\n",
    "* **Publisher** - Name of the company that published the game, object\n",
    "* **NA_Sales** - Number of copies the game sold in North America (in millions), float\n",
    "* **EU_Sales** - Number of copies the game sold in Europe (in millions), float\n",
    "* **JP_Sales** - Number of copies the game sold in Japan (in millions),float\n",
    "* **Other_Sales** - Number of copies the game sold in other regions (in millions), float\n",
    "* **Global_Sales** - Number of copies the game sold worldwide (in millions), float."
   ]
  },
  {
   "cell_type": "code",
   "execution_count": 15,
   "metadata": {},
   "outputs": [
    {
     "name": "stdout",
     "output_type": "stream",
     "text": [
      "Database dimension: (16598, 11)\n",
      "Database size: 182578\n"
     ]
    }
   ],
   "source": [
    "print('Database dimension: {}'.format(vgdata.shape))\n",
    "print('Database size: {}'.format(vgdata.size))"
   ]
  },
  {
   "cell_type": "markdown",
   "metadata": {},
   "source": [
    "Now that we've sucessfully characterized the dataset it is time to clean it. As we can see from the DataFrame info we have issues on both the \"Year\" and \"Publisher\" columns, which have null values."
   ]
  },
  {
   "cell_type": "markdown",
   "metadata": {},
   "source": [
    "# Data Cleaning"
   ]
  },
  {
   "cell_type": "code",
   "execution_count": 16,
   "metadata": {},
   "outputs": [
    {
     "data": {
      "text/html": [
       "<div>\n",
       "<style scoped>\n",
       "    .dataframe tbody tr th:only-of-type {\n",
       "        vertical-align: middle;\n",
       "    }\n",
       "\n",
       "    .dataframe tbody tr th {\n",
       "        vertical-align: top;\n",
       "    }\n",
       "\n",
       "    .dataframe thead th {\n",
       "        text-align: right;\n",
       "    }\n",
       "</style>\n",
       "<table border=\"1\" class=\"dataframe\">\n",
       "  <thead>\n",
       "    <tr style=\"text-align: right;\">\n",
       "      <th></th>\n",
       "      <th>Column Name</th>\n",
       "      <th>Null Values Percentage</th>\n",
       "      <th>Null Values</th>\n",
       "    </tr>\n",
       "  </thead>\n",
       "  <tbody>\n",
       "    <tr>\n",
       "      <th>3</th>\n",
       "      <td>Year</td>\n",
       "      <td>1.632727</td>\n",
       "      <td>271</td>\n",
       "    </tr>\n",
       "    <tr>\n",
       "      <th>5</th>\n",
       "      <td>Publisher</td>\n",
       "      <td>0.349440</td>\n",
       "      <td>58</td>\n",
       "    </tr>\n",
       "  </tbody>\n",
       "</table>\n",
       "</div>"
      ],
      "text/plain": [
       "  Column Name  Null Values Percentage  Null Values\n",
       "3        Year                1.632727          271\n",
       "5   Publisher                0.349440           58"
      ]
     },
     "execution_count": 16,
     "metadata": {},
     "output_type": "execute_result"
    }
   ],
   "source": [
    "# Creates a DataFrame with the percentage of null values\n",
    "null_vgd_perc = pd.DataFrame((vgdata.isnull().sum())*100/vgdata.shape[0]).reset_index()\n",
    "null_vgd_perc.columns = ['Column Name', 'Null Values Percentage']\n",
    "\n",
    "# Creates a DataFrame with the count of null values\n",
    "null_vgd_count = pd.DataFrame((vgdata.isnull().sum())).reset_index()\n",
    "null_vgd_count.columns = ['Column Name', 'Null Values']\n",
    "\n",
    "# Merges both DataFrames in order to have both the count and the percentage of null values\n",
    "null_vgd = pd.merge(null_vgd_perc, null_vgd_count, on = 'Column Name')\n",
    "\n",
    "# Final DataFrame shown with the Columns of interest, \"Year\" and \"Publisher\"\n",
    "null_vgd.iloc[[3, 5]]"
   ]
  },
  {
   "cell_type": "markdown",
   "metadata": {},
   "source": [
    "As expected, we have 1.63% of the \"Year\" column with missing data and 0.35% of the \"Publisher\" column with missing data. This percentages are not something that should get in the way of our analysis, so I'm just going to drop these null values."
   ]
  },
  {
   "cell_type": "code",
   "execution_count": 6,
   "metadata": {},
   "outputs": [
    {
     "data": {
      "text/plain": [
       "Rank            0\n",
       "Name            0\n",
       "Platform        0\n",
       "Year            0\n",
       "Genre           0\n",
       "Publisher       0\n",
       "NA_Sales        0\n",
       "EU_Sales        0\n",
       "JP_Sales        0\n",
       "Other_Sales     0\n",
       "Global_Sales    0\n",
       "dtype: int64"
      ]
     },
     "execution_count": 6,
     "metadata": {},
     "output_type": "execute_result"
    }
   ],
   "source": [
    "vgdata = vgdata.dropna()\n",
    "vgdata.isnull().sum()"
   ]
  },
  {
   "cell_type": "markdown",
   "metadata": {},
   "source": [
    "It is worth noting that this dataset was last updated in 2017, hence we shouldn't expect any game released after this year. Let's see what is the maximum year contained in the dataset."
   ]
  },
  {
   "cell_type": "code",
   "execution_count": 7,
   "metadata": {},
   "outputs": [
    {
     "name": "stdout",
     "output_type": "stream",
     "text": [
      "Max Year Value: 2020.0\n"
     ]
    }
   ],
   "source": [
    "print('Max Year Value: {}'.format(vgdata['Year'].max()))"
   ]
  },
  {
   "cell_type": "markdown",
   "metadata": {},
   "source": [
    "We should go after the game that had it's release year wrongly inputted in the dataset and correct it."
   ]
  },
  {
   "cell_type": "code",
   "execution_count": 17,
   "metadata": {},
   "outputs": [
    {
     "data": {
      "text/plain": [
       "Rank                              5959\n",
       "Name            Imagine: Makeup Artist\n",
       "Platform                            DS\n",
       "Year                              2020\n",
       "Genre                       Simulation\n",
       "Publisher                      Ubisoft\n",
       "NA_Sales                          0.27\n",
       "EU_Sales                             0\n",
       "JP_Sales                             0\n",
       "Other_Sales                       0.02\n",
       "Global_Sales                      0.29\n",
       "Name: 5957, dtype: object"
      ]
     },
     "execution_count": 17,
     "metadata": {},
     "output_type": "execute_result"
    }
   ],
   "source": [
    "max_index = vgdata['Year'].idxmax()\n",
    "vgdata.iloc[max_index]"
   ]
  },
  {
   "cell_type": "markdown",
   "metadata": {},
   "source": [
    "After googling the game's name, I found out that it's release year is actually 2009. We should replace that information in the dataset."
   ]
  },
  {
   "cell_type": "code",
   "execution_count": 9,
   "metadata": {},
   "outputs": [
    {
     "name": "stdout",
     "output_type": "stream",
     "text": [
      "Max Year Value: 2017.0\n"
     ]
    }
   ],
   "source": [
    "vgdata['Year'] = vgdata['Year'].replace(2020.0, 2009.0)\n",
    "print('Max Year Value: {}'.format(vgdata['Year'].max()))"
   ]
  },
  {
   "cell_type": "markdown",
   "metadata": {},
   "source": [
    "Nice. The data preparation is done. It is now time for us to engage in the analysis."
   ]
  },
  {
   "cell_type": "markdown",
   "metadata": {},
   "source": [
    "# Data Analysis and Visualization"
   ]
  },
  {
   "cell_type": "code",
   "execution_count": 10,
   "metadata": {},
   "outputs": [
    {
     "name": "stdout",
     "output_type": "stream",
     "text": [
      "We have a total of 11325 games, 576 publishers, 31 platforms and 12 genres.\n"
     ]
    }
   ],
   "source": [
    "games = vgdata['Name'].nunique()\n",
    "publisher = vgdata['Publisher'].nunique()\n",
    "platforms = vgdata['Platform'].nunique()\n",
    "genres = vgdata['Genre'].nunique()\n",
    "\n",
    "print('We have a total of {ga} games, {pu} publishers, {pl} platforms and {ge} genres.'.format(ga = games, pu = publisher, pl = platforms, ge=genres))"
   ]
  },
  {
   "cell_type": "markdown",
   "metadata": {},
   "source": [
    "One of the first things that comes to mind when analyzing this dataset is how did videogame production change throughout the years."
   ]
  },
  {
   "cell_type": "code",
   "execution_count": 11,
   "metadata": {},
   "outputs": [
    {
     "data": {
      "image/png": "[encoded data removed]",
      "text/plain": [
       "<Figure size 432x288 with 1 Axes>"
      ]
     },
     "metadata": {},
     "output_type": "display_data"
    }
   ],
   "source": [
    "games_per_year =  vgdata.groupby('Year')['Name'].count().reset_index()\n",
    "\n",
    "fig = plt.figure()\n",
    "\n",
    "ax = fig.add_axes([0,0,1,1])\n",
    "\n",
    "ax.bar(games_per_year['Year'].tolist(), games_per_year['Name'].tolist())\n",
    "ax.set_ylabel('Number of Games Released')\n",
    "ax.set_xlabel('Year')\n",
    "ax.set_title('Videogame Release by Year')\n",
    "ax.xaxis.grid(False)"
   ]
  },
  {
   "cell_type": "markdown",
   "metadata": {},
   "source": [
    "We can see that game production peaked during 2007 until 2010, which is something that particularly surprised me, given the fact that the popularity of this media only grows as time passes, which got me wondering, even though the amount of games released peaked in this interval, what happened to the global sales?"
   ]
  },
  {
   "cell_type": "code",
   "execution_count": 12,
   "metadata": {},
   "outputs": [
    {
     "data": {
      "image/png": "[encoded data removed]",
      "text/plain": [
       "<Figure size 432x288 with 1 Axes>"
      ]
     },
     "metadata": {},
     "output_type": "display_data"
    }
   ],
   "source": [
    "sales_per_year = vgdata.groupby('Year')['Global_Sales'].sum().reset_index()\n",
    "sales_per_year\n",
    "\n",
    "fig = plt.figure()\n",
    "\n",
    "ax = fig.add_axes([0,0,1,1])\n",
    "\n",
    "ax.bar(sales_per_year['Year'].tolist(), sales_per_year['Global_Sales'].tolist())\n",
    "ax.set_ylabel('Global Sales (in millions)')\n",
    "ax.set_xlabel('Year')\n",
    "ax.set_title('Global Sales by Year')\n",
    "ax.xaxis.grid(False)\n"
   ]
  },
  {
   "cell_type": "markdown",
   "metadata": {},
   "source": [
    "No surprises, the global sales follows roughly the same pattern. Another evolution that might peak our interest is how many games did each publisher release, and we should compare this with the global sales of each company."
   ]
  },
  {
   "cell_type": "code",
   "execution_count": 13,
   "metadata": {},
   "outputs": [
    {
     "data": {
      "image/png": "[encoded data removed]",
      "text/plain": [
       "<Figure size 432x288 with 1 Axes>"
      ]
     },
     "metadata": {},
     "output_type": "display_data"
    }
   ],
   "source": [
    "game_per_pub = vgdata.groupby('Publisher')['Name'].count().reset_index()\n",
    "\n",
    "game_per_pub = game_per_pub.sort_values('Name', ascending = False)\n",
    "\n",
    "game_per_pub.drop(game_per_pub[game_per_pub['Name'] <= 500].index, inplace=True)\n",
    "game_per_pub\n",
    "\n",
    "fig = plt.figure()\n",
    "\n",
    "ax = fig.add_axes([0,0,1,1])\n",
    "\n",
    "ax.bar(game_per_pub['Publisher'].tolist(), game_per_pub['Name'].tolist())\n",
    "\n",
    "ax.set_ylabel('Games Published')\n",
    "\n",
    "ax.set_title('Games Published per Company')\n",
    "\n",
    "for tick in ax.get_xticklabels():\n",
    "    tick.set_rotation(90)\n",
    "\n",
    "plt.margins(x=0)\n",
    "ax.xaxis.grid(False)"
   ]
  },
  {
   "cell_type": "code",
   "execution_count": 14,
   "metadata": {},
   "outputs": [
    {
     "data": {
      "image/png": "[encoded data removed]",
      "text/plain": [
       "<Figure size 432x288 with 1 Axes>"
      ]
     },
     "metadata": {},
     "output_type": "display_data"
    }
   ],
   "source": [
    "sale_per_pub = vgdata.groupby('Publisher')['Global_Sales'].sum().reset_index()\n",
    "\n",
    "sale_per_pub = sale_per_pub.sort_values('Global_Sales', ascending = False)\n",
    "\n",
    "sale_per_pub.drop(sale_per_pub[sale_per_pub['Global_Sales'] <= 250].index, inplace=True)\n",
    "\n",
    "fig = plt.figure()\n",
    "\n",
    "ax = fig.add_axes([0,0,1,1])\n",
    "\n",
    "ax.bar(sale_per_pub['Publisher'].tolist(), sale_per_pub['Global_Sales'].tolist())\n",
    "\n",
    "ax.set_ylabel('All time Global Sales')\n",
    "\n",
    "ax.set_title('All time Global Sales by Company')\n",
    "\n",
    "for tick in ax.get_xticklabels():\n",
    "    tick.set_rotation(90)\n",
    "\n",
    "plt.margins(x=0)\n",
    "ax.xaxis.grid(False)"
   ]
  },
  {
   "cell_type": "markdown",
   "metadata": {},
   "source": [
    "We notice that even though Nintendo is not the first Company in terms of publishing, it is, by far, the company that has most overall revenue. The reason behind this may be historic, Nintendo created the most influential and famous videogame franchises of all time: Mario and The Legend of Zelda. The biggest entertainment industry on the planet was born out of these franchises, hence the income of the visionary company that conceived these characters."
   ]
  },
  {
   "cell_type": "code",
   "execution_count": null,
   "metadata": {},
   "outputs": [],
   "source": []
  }
 ],
 "metadata": {
  "kernelspec": {
   "display_name": "Python 3",
   "language": "python",
   "name": "python3"
  },
  "language_info": {
   "codemirror_mode": {
    "name": "ipython",
    "version": 3
   },
   "file_extension": ".py",
   "mimetype": "text/x-python",
   "name": "python",
   "nbconvert_exporter": "python",
   "pygments_lexer": "ipython3",
   "version": "3.9.0"
  }
 },
 "nbformat": 4,
 "nbformat_minor": 4
}
